{
 "cells": [
  {
   "cell_type": "code",
   "execution_count": 3,
   "metadata": {},
   "outputs": [],
   "source": [
    "import numpy as np\n",
    "import matplotlib.pyplot as plt"
   ]
  },
  {
   "cell_type": "code",
   "execution_count": 3,
   "metadata": {},
   "outputs": [],
   "source": [
    "valve_states = np.load(\"valve_states.npy\")"
   ]
  },
  {
   "cell_type": "code",
   "execution_count": 20,
   "metadata": {},
   "outputs": [
    {
     "name": "stdout",
     "output_type": "stream",
     "text": [
      "[1, 0, 1, 0]\n",
      "[2, 3, 4, 5]\n",
      "[1, 1, 1, 1]\n"
     ]
    }
   ],
   "source": [
    "class ValveModel:\n",
    "    def __init__(self, sample_rate=10000, acquisition_time=6, pre_sequence_time=0.5, post_sequence_time=0.5, pulse_time=1, back_valve_delay=0.05, interval_time=3):   \n",
    "        self.sample_rate = sample_rate\n",
    "        self.acquisition_samples = int(acquisition_time * self.sample_rate)\n",
    "        self.interval_time = interval_time\n",
    "        self.back_valve_delay_samples = int(back_valve_delay * self.sample_rate)\n",
    "        self.pre_sequence_samples = int(pre_sequence_time * self.sample_rate)\n",
    "        self.post_sequence_samles = int(post_sequence_time * self.sample_rate)\n",
    "        self.pulse_samples = int(pulse_time * self.sample_rate)\n",
    "        self.cycle_samples = int(0.004 * self.sample_rate)\n",
    "        self.ttl_bit_samples = int(0.004 * self.sample_rate)\n",
    "        self.all_clean_air_valves = [0, 1, 8, 9]\n",
    "        # self.valves = nidaqmx.Task()\n",
    "        # self.ai = nidaqmx.Task()\n",
    "        # self.valves.do_channels.add_do_chan(\"Front_valves/port0/line0:15, Back_valves/port0/line0:7, Back_valves/port0/line16:23, Front_valves/port0/line16\", line_grouping=nidaqmx.constants.LineGrouping.CHAN_PER_LINE)\n",
    "        # self.ai.ai_channels.add_ai_voltage_chan(\"AI/ai0, AI/ai1, AI/ai2\")\n",
    "        # self.init_clock_and_trigger(self.valves)\n",
    "        # self.init_clock_and_trigger(self.ai)\n",
    "\n",
    "    # def __del__(self):\n",
    "    #     self.valves.close()\n",
    "    #     self.ai.close()\n",
    "\n",
    "    def init_clock_and_trigger(self, task):\n",
    "        task.timing.cfg_samp_clk_timing(self.sample_rate, source=\"OnboardClock\", samps_per_chan=self.acquisition_samples, sample_mode=nidaqmx.constants.AcquisitionType.FINITE)\n",
    "        # task.triggers.start_trigger.cfg_dig_edge_start_trig(\"/cDAQ1/PFI0\")\n",
    "\n",
    "    def determine_clean_air_valve(self, odour_valve):\n",
    "        return {k: (k > 8) * k // 8 * 8 + 1 - k % 2 for k in list(range(2, 8)) + list(range(10, 16))}.get(odour_valve)\n",
    "\n",
    "    def generate_valve_pattern(self, odour_valves, duty_cycles, label=\"\"):\n",
    "        valve_states = np.vstack([np.ones((16, self.acquisition_samples), dtype=int), np.zeros((16, self.acquisition_samples), dtype=int), np.ones((1, self.acquisition_samples), dtype=int)])\n",
    "        clean_air_valves = [self.determine_clean_air_valve(odour_valve) for odour_valve in odour_valves]\n",
    "        valve_states[self.all_clean_air_valves, :] = 0\n",
    "        for k in range(len(odour_valves)):\n",
    "            on_samples = int(self.cycle_samples * duty_cycles[k])\n",
    "            pulse_pattern = np.concatenate(np.arange(0, self.pulse_samples, self.cycle_samples).reshape(-1, 1) + np.arange(on_samples))\n",
    "            valve_states[odour_valves[k] - 1, pulse_pattern + self.pre_sequence_samples + self.pulse_samples * k] = 0\n",
    "            valve_states[odour_valves[k] - 1 + 16, self.pre_sequence_samples + self.pulse_samples * k + self.back_valve_delay_samples: self.pre_sequence_samples + self.pulse_samples * (k + 1) - self.back_valve_delay_samples] = 1\n",
    "            valve_states[clean_air_valves[k], pulse_pattern + self.pre_sequence_samples + self.pulse_samples * k] = 1\n",
    "        # creating a binary code for the label\n",
    "        bytes_array = np.frombuffer(label.encode(), dtype=np.uint8)\n",
    "        binary_codes = np.unpackbits(bytes_array)\n",
    "        binary_codes = binary_codes[:len(label) * 7].reshape(-1, 7).reshape(-1)\n",
    "        true_indices = np.where(binary_codes)[0] + 2\n",
    "        true_indices = np.hstack([0, true_indices])\n",
    "        ttl_pattern = (true_indices[:, None] * self.ttl_bit_samples + np.arange(self.ttl_bit_samples)).ravel() + self.pre_sequence_samples\n",
    "        valve_states[32, ttl_pattern] = 0\n",
    "        return valve_states.astype(bool)\n",
    "\n",
    "    def play_valve_sequence(self, odour_valves, duty_cycles, label):\n",
    "        valve_states = self.generate_valve_pattern(odour_valves, duty_cycles, label=label)\n",
    "        print(odour_valves, duty_cycles, label)\n",
    "        np.save(\"valve_states.npy\", valve_states)\n",
    "        # print(valve_states)\n",
    "        self.valves.write(valve_states)\n",
    "        self.valves.start()\n",
    "        traces = self.ai.read(number_of_samples_per_channel=self.acquisition_samples)\n",
    "        self.valves.wait_until_done(timeout=20)\n",
    "        self.valves.stop()\n",
    "        self.valves.out_stream.regen_mode = nidaqmx.constants.RegenerationMode.DONT_ALLOW_REGENERATION\n",
    "        self.valves.out_stream.regen_mode = nidaqmx.constants.RegenerationMode.ALLOW_REGENERATION\n",
    "        return np.array(traces) * 0.8949 - 1.1644\n",
    "\n",
    "valve_model = ValveModel()\n",
    "\n",
    "# print([valve_model.determine_clean_air_valve(v) for v in [2,3,4,5]])\n",
    "\n",
    "valve_states = valve_model.generate_valve_pattern([2,3,4,5],[1,1,1,1], \"Test\")"
   ]
  },
  {
   "cell_type": "markdown",
   "metadata": {},
   "source": [
    "valve_model.generate_valve_pattern([3,4,5,6], [1,1,1,1], label=\"\")"
   ]
  },
  {
   "cell_type": "code",
   "execution_count": 7,
   "metadata": {},
   "outputs": [
    {
     "name": "stderr",
     "output_type": "stream",
     "text": [
      "C:\\Users\\kollom\\AppData\\Local\\Temp\\ipykernel_13272\\1065298175.py:3: UserWarning: Matplotlib is currently using module://matplotlib_inline.backend_inline, which is a non-GUI backend, so cannot show the figure.\n",
      "  fig.show()\n"
     ]
    },
    {
     "data": {
      "image/png": "[encoded data removed]",
      "text/plain": [
       "<Figure size 500x1000 with 1 Axes>"
      ]
     },
     "metadata": {},
     "output_type": "display_data"
    }
   ],
   "source": [
    "fig, ax = plt.subplots(1,1,figsize=(5,10))\n",
    "ax.imshow(valve_states, aspect=\"auto\")\n",
    "fig.show()"
   ]
  },
  {
   "cell_type": "code",
   "execution_count": null,
   "metadata": {},
   "outputs": [],
   "source": []
  },
  {
   "cell_type": "code",
   "execution_count": null,
   "metadata": {},
   "outputs": [],
   "source": []
  }
 ],
 "metadata": {
  "kernelspec": {
   "display_name": "Python 3.8.16 ('odorseq')",
   "language": "python",
   "name": "python3"
  },
  "language_info": {
   "codemirror_mode": {
    "name": "ipython",
    "version": 3
   },
   "file_extension": ".py",
   "mimetype": "text/x-python",
   "name": "python",
   "nbconvert_exporter": "python",
   "pygments_lexer": "ipython3",
   "version": "3.8.16"
  },
  "orig_nbformat": 4,
  "vscode": {
   "interpreter": {
    "hash": "e04322e5dd8fd4f66bb9130fad66c7693925bf577316a4e20cebef52d8952ff2"
   }
  }
 },
 "nbformat": 4,
 "nbformat_minor": 2
}
